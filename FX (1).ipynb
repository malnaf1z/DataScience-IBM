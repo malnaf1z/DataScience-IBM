{
 "cells": [
  {
   "cell_type": "markdown",
   "id": "30ec39f2-9489-4a97-ab02-b49dbe8009e9",
   "metadata": {},
   "source": [
    "| Number of Trades taken | Profits Obtained |\n",
    "|------------------------|------------------|\n",
    "| 30 | 1000 |\n",
    "| 32 | -123.76 |"
   ]
  },
  {
   "cell_type": "markdown",
   "id": "4b870a9c-aa2d-4178-b586-9c7cd9cb301c",
   "metadata": {},
   "source": [
    "# Data Science Tools and Ecosystem"
   ]
  },
  {
   "cell_type": "markdown",
   "id": "5ba08fa4-4333-453c-b963-14d15e4bd7a5",
   "metadata": {},
   "source": [
    "### In this notebook, Data Science Tools and Ecosystem are summarized.\n",
    "### Some of the commonly used libraries used by Data Scientists include:\n",
    "\n",
    "| Data Science Tools |\n",
    "|--------------------|\n",
    "| Python |\n",
    "| R |\n",
    "| Jupyter |\n",
    "\n",
    "### Below are a few examples of evaluating arithmetic expressions in Python,\n",
    "### This a simple arithmetic expression to mutiply then add integers, for example; (3*4)+5"
   ]
  },
  {
   "cell_type": "code",
   "execution_count": 2,
   "id": "c351df37-9cee-4932-8292-c49cc0b94902",
   "metadata": {},
   "outputs": [
    {
     "data": {
      "text/plain": [
       "17"
      ]
     },
     "execution_count": 2,
     "metadata": {},
     "output_type": "execute_result"
    }
   ],
   "source": [
    "(3*4)+5"
   ]
  },
  {
   "cell_type": "markdown",
   "id": "adbd300d-9678-419a-a3d5-fbc910e0bac9",
   "metadata": {},
   "source": [
    "### There are multiple ways of utilising Python, such as to convert minutes to hours for example. \n",
    "### Let's just say we wish to convert 200 minutes to hours. This would mean dividing 200 by 60, yes?\n",
    "### Doing so would lead us to 200 minutes in hours, but there is a problem, however. It would be in the form of decimals. "
   ]
  },
  {
   "cell_type": "code",
   "execution_count": 4,
   "id": "14fe3c7e-6ae9-45ee-ae39-218842408e51",
   "metadata": {},
   "outputs": [
    {
     "name": "stdout",
     "output_type": "stream",
     "text": [
      "3.3333333333333335\n"
     ]
    }
   ],
   "source": [
    "x=200/60\n",
    "print(x)\n"
   ]
  },
  {
   "cell_type": "markdown",
   "id": "562209fa-e0a0-4b28-99e3-fb4c03c64136",
   "metadata": {},
   "source": [
    "### hence, we would arrive at print(x)"
   ]
  },
  {
   "cell_type": "code",
   "execution_count": null,
   "id": "6f8d9869-99db-470c-9e49-b7908d6c0fc3",
   "metadata": {},
   "outputs": [],
   "source": []
  }
 ],
 "metadata": {
  "kernelspec": {
   "display_name": "Python 3 (ipykernel)",
   "language": "python",
   "name": "python3"
  },
  "language_info": {
   "codemirror_mode": {
    "name": "ipython",
    "version": 3
   },
   "file_extension": ".py",
   "mimetype": "text/x-python",
   "name": "python",
   "nbconvert_exporter": "python",
   "pygments_lexer": "ipython3",
   "version": "3.12.7"
  }
 },
 "nbformat": 4,
 "nbformat_minor": 5
}
